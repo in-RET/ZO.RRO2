{
 "cells": [
  {
   "cell_type": "code",
   "id": "initial_id",
   "metadata": {
    "collapsed": true,
    "ExecuteTime": {
     "end_time": "2024-05-30T11:07:57.163053Z",
     "start_time": "2024-05-30T11:07:57.159544Z"
    }
   },
   "source": [
    "import os\n",
    "\n",
    "workdir = os.getcwd()\n",
    "print(workdir)\n",
    "test = os.path.abspath(os.path.join(workdir, \"..\", 'preprocessing', 'test', 'Tolledatei.csv'))\n",
    "print(test)"
   ],
   "outputs": [
    {
     "name": "stdout",
     "output_type": "stream",
     "text": [
      "/Users/pyrokar/Documents/GitHub/python/ds-project-template/notebooks\n",
      "/Users/pyrokar/Documents/GitHub/python/ds-project-template/data/test/Tolledatei.csv\n"
     ]
    }
   ],
   "execution_count": 5
  },
  {
   "cell_type": "code",
   "outputs": [],
   "source": [],
   "metadata": {
    "collapsed": false
   },
   "id": "f176c6d92f85b14",
   "execution_count": null
  }
 ],
 "metadata": {
  "kernelspec": {
   "display_name": "Python 3",
   "language": "python",
   "name": "python3"
  },
  "language_info": {
   "codemirror_mode": {
    "name": "ipython",
    "version": 2
   },
   "file_extension": ".py",
   "mimetype": "text/x-python",
   "name": "python",
   "nbconvert_exporter": "python",
   "pygments_lexer": "ipython2",
   "version": "2.7.6"
  }
 },
 "nbformat": 4,
 "nbformat_minor": 5
}
